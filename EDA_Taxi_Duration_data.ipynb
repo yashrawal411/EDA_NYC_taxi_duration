{
 "cells": [
  {
   "cell_type": "code",
   "execution_count": 1,
   "id": "cdbe54ec",
   "metadata": {},
   "outputs": [],
   "source": [
    "import pandas as pd\n",
    "import numpy as np\n",
    "import matplotlib.pyplot as plt\n",
    "import seaborn as sns\n",
    "%matplotlib inline\n",
    "import datetime\n",
    "import warnings\n",
    "warnings.filterwarnings(\"ignore\")\n",
    "sns.set_theme(style=\"darkgrid\")"
   ]
  },
  {
   "cell_type": "code",
   "execution_count": 2,
   "id": "25a89107",
   "metadata": {},
   "outputs": [],
   "source": [
    "data = pd.read_csv('nyc_taxi_final-1560498097450/nyc_taxi_trip_duration.csv')"
   ]
  },
  {
   "cell_type": "code",
   "execution_count": 3,
   "id": "3ed66d11",
   "metadata": {},
   "outputs": [
    {
     "data": {
      "text/plain": [
       "(729322, 11)"
      ]
     },
     "execution_count": 3,
     "metadata": {},
     "output_type": "execute_result"
    }
   ],
   "source": [
    "data.shape"
   ]
  },
  {
   "cell_type": "markdown",
   "id": "282330bc",
   "metadata": {},
   "source": [
    "Data has more than 7 lakh rows and 11 columns."
   ]
  },
  {
   "cell_type": "code",
   "execution_count": 4,
   "id": "d01f1e43",
   "metadata": {},
   "outputs": [
    {
     "data": {
      "text/html": [
       "<div>\n",
       "<style scoped>\n",
       "    .dataframe tbody tr th:only-of-type {\n",
       "        vertical-align: middle;\n",
       "    }\n",
       "\n",
       "    .dataframe tbody tr th {\n",
       "        vertical-align: top;\n",
       "    }\n",
       "\n",
       "    .dataframe thead th {\n",
       "        text-align: right;\n",
       "    }\n",
       "</style>\n",
       "<table border=\"1\" class=\"dataframe\">\n",
       "  <thead>\n",
       "    <tr style=\"text-align: right;\">\n",
       "      <th></th>\n",
       "      <th>id</th>\n",
       "      <th>vendor_id</th>\n",
       "      <th>pickup_datetime</th>\n",
       "      <th>dropoff_datetime</th>\n",
       "      <th>passenger_count</th>\n",
       "      <th>pickup_longitude</th>\n",
       "      <th>pickup_latitude</th>\n",
       "      <th>dropoff_longitude</th>\n",
       "      <th>dropoff_latitude</th>\n",
       "      <th>store_and_fwd_flag</th>\n",
       "      <th>trip_duration</th>\n",
       "    </tr>\n",
       "  </thead>\n",
       "  <tbody>\n",
       "    <tr>\n",
       "      <th>0</th>\n",
       "      <td>id1080784</td>\n",
       "      <td>2</td>\n",
       "      <td>2016-02-29 16:40:21</td>\n",
       "      <td>2016-02-29 16:47:01</td>\n",
       "      <td>1</td>\n",
       "      <td>-73.953918</td>\n",
       "      <td>40.778873</td>\n",
       "      <td>-73.963875</td>\n",
       "      <td>40.771164</td>\n",
       "      <td>N</td>\n",
       "      <td>400</td>\n",
       "    </tr>\n",
       "    <tr>\n",
       "      <th>1</th>\n",
       "      <td>id0889885</td>\n",
       "      <td>1</td>\n",
       "      <td>2016-03-11 23:35:37</td>\n",
       "      <td>2016-03-11 23:53:57</td>\n",
       "      <td>2</td>\n",
       "      <td>-73.988312</td>\n",
       "      <td>40.731743</td>\n",
       "      <td>-73.994751</td>\n",
       "      <td>40.694931</td>\n",
       "      <td>N</td>\n",
       "      <td>1100</td>\n",
       "    </tr>\n",
       "    <tr>\n",
       "      <th>2</th>\n",
       "      <td>id0857912</td>\n",
       "      <td>2</td>\n",
       "      <td>2016-02-21 17:59:33</td>\n",
       "      <td>2016-02-21 18:26:48</td>\n",
       "      <td>2</td>\n",
       "      <td>-73.997314</td>\n",
       "      <td>40.721458</td>\n",
       "      <td>-73.948029</td>\n",
       "      <td>40.774918</td>\n",
       "      <td>N</td>\n",
       "      <td>1635</td>\n",
       "    </tr>\n",
       "    <tr>\n",
       "      <th>3</th>\n",
       "      <td>id3744273</td>\n",
       "      <td>2</td>\n",
       "      <td>2016-01-05 09:44:31</td>\n",
       "      <td>2016-01-05 10:03:32</td>\n",
       "      <td>6</td>\n",
       "      <td>-73.961670</td>\n",
       "      <td>40.759720</td>\n",
       "      <td>-73.956779</td>\n",
       "      <td>40.780628</td>\n",
       "      <td>N</td>\n",
       "      <td>1141</td>\n",
       "    </tr>\n",
       "    <tr>\n",
       "      <th>4</th>\n",
       "      <td>id0232939</td>\n",
       "      <td>1</td>\n",
       "      <td>2016-02-17 06:42:23</td>\n",
       "      <td>2016-02-17 06:56:31</td>\n",
       "      <td>1</td>\n",
       "      <td>-74.017120</td>\n",
       "      <td>40.708469</td>\n",
       "      <td>-73.988182</td>\n",
       "      <td>40.740631</td>\n",
       "      <td>N</td>\n",
       "      <td>848</td>\n",
       "    </tr>\n",
       "  </tbody>\n",
       "</table>\n",
       "</div>"
      ],
      "text/plain": [
       "          id  vendor_id      pickup_datetime     dropoff_datetime  \\\n",
       "0  id1080784          2  2016-02-29 16:40:21  2016-02-29 16:47:01   \n",
       "1  id0889885          1  2016-03-11 23:35:37  2016-03-11 23:53:57   \n",
       "2  id0857912          2  2016-02-21 17:59:33  2016-02-21 18:26:48   \n",
       "3  id3744273          2  2016-01-05 09:44:31  2016-01-05 10:03:32   \n",
       "4  id0232939          1  2016-02-17 06:42:23  2016-02-17 06:56:31   \n",
       "\n",
       "   passenger_count  pickup_longitude  pickup_latitude  dropoff_longitude  \\\n",
       "0                1        -73.953918        40.778873         -73.963875   \n",
       "1                2        -73.988312        40.731743         -73.994751   \n",
       "2                2        -73.997314        40.721458         -73.948029   \n",
       "3                6        -73.961670        40.759720         -73.956779   \n",
       "4                1        -74.017120        40.708469         -73.988182   \n",
       "\n",
       "   dropoff_latitude store_and_fwd_flag  trip_duration  \n",
       "0         40.771164                  N            400  \n",
       "1         40.694931                  N           1100  \n",
       "2         40.774918                  N           1635  \n",
       "3         40.780628                  N           1141  \n",
       "4         40.740631                  N            848  "
      ]
     },
     "execution_count": 4,
     "metadata": {},
     "output_type": "execute_result"
    }
   ],
   "source": [
    "data.head()"
   ]
  },
  {
   "cell_type": "code",
   "execution_count": 5,
   "id": "1171cef7",
   "metadata": {},
   "outputs": [
    {
     "data": {
      "text/html": [
       "<div>\n",
       "<style scoped>\n",
       "    .dataframe tbody tr th:only-of-type {\n",
       "        vertical-align: middle;\n",
       "    }\n",
       "\n",
       "    .dataframe tbody tr th {\n",
       "        vertical-align: top;\n",
       "    }\n",
       "\n",
       "    .dataframe thead th {\n",
       "        text-align: right;\n",
       "    }\n",
       "</style>\n",
       "<table border=\"1\" class=\"dataframe\">\n",
       "  <thead>\n",
       "    <tr style=\"text-align: right;\">\n",
       "      <th></th>\n",
       "      <th>id</th>\n",
       "      <th>vendor_id</th>\n",
       "      <th>pickup_datetime</th>\n",
       "      <th>dropoff_datetime</th>\n",
       "      <th>passenger_count</th>\n",
       "      <th>pickup_longitude</th>\n",
       "      <th>pickup_latitude</th>\n",
       "      <th>dropoff_longitude</th>\n",
       "      <th>dropoff_latitude</th>\n",
       "      <th>store_and_fwd_flag</th>\n",
       "      <th>trip_duration</th>\n",
       "    </tr>\n",
       "  </thead>\n",
       "  <tbody>\n",
       "    <tr>\n",
       "      <th>667453</th>\n",
       "      <td>id0960144</td>\n",
       "      <td>1</td>\n",
       "      <td>2016-05-23 11:50:39</td>\n",
       "      <td>2016-05-23 12:30:39</td>\n",
       "      <td>1</td>\n",
       "      <td>-73.981880</td>\n",
       "      <td>40.768471</td>\n",
       "      <td>-73.861732</td>\n",
       "      <td>40.768391</td>\n",
       "      <td>N</td>\n",
       "      <td>2400</td>\n",
       "    </tr>\n",
       "    <tr>\n",
       "      <th>259621</th>\n",
       "      <td>id1609812</td>\n",
       "      <td>2</td>\n",
       "      <td>2016-04-03 00:46:49</td>\n",
       "      <td>2016-04-03 01:02:05</td>\n",
       "      <td>1</td>\n",
       "      <td>-73.978706</td>\n",
       "      <td>40.728539</td>\n",
       "      <td>-73.957970</td>\n",
       "      <td>40.773560</td>\n",
       "      <td>N</td>\n",
       "      <td>916</td>\n",
       "    </tr>\n",
       "    <tr>\n",
       "      <th>442858</th>\n",
       "      <td>id1064861</td>\n",
       "      <td>2</td>\n",
       "      <td>2016-01-06 09:50:33</td>\n",
       "      <td>2016-01-06 09:59:01</td>\n",
       "      <td>1</td>\n",
       "      <td>-73.990952</td>\n",
       "      <td>40.750530</td>\n",
       "      <td>-73.978958</td>\n",
       "      <td>40.737049</td>\n",
       "      <td>N</td>\n",
       "      <td>508</td>\n",
       "    </tr>\n",
       "    <tr>\n",
       "      <th>184490</th>\n",
       "      <td>id0923807</td>\n",
       "      <td>2</td>\n",
       "      <td>2016-06-14 08:01:54</td>\n",
       "      <td>2016-06-14 08:08:18</td>\n",
       "      <td>2</td>\n",
       "      <td>-73.959389</td>\n",
       "      <td>40.771790</td>\n",
       "      <td>-73.979927</td>\n",
       "      <td>40.770950</td>\n",
       "      <td>N</td>\n",
       "      <td>384</td>\n",
       "    </tr>\n",
       "    <tr>\n",
       "      <th>427297</th>\n",
       "      <td>id2258728</td>\n",
       "      <td>2</td>\n",
       "      <td>2016-04-29 00:00:11</td>\n",
       "      <td>2016-04-29 00:35:20</td>\n",
       "      <td>2</td>\n",
       "      <td>-73.980087</td>\n",
       "      <td>40.754738</td>\n",
       "      <td>-73.964012</td>\n",
       "      <td>40.644077</td>\n",
       "      <td>N</td>\n",
       "      <td>2109</td>\n",
       "    </tr>\n",
       "  </tbody>\n",
       "</table>\n",
       "</div>"
      ],
      "text/plain": [
       "               id  vendor_id      pickup_datetime     dropoff_datetime  \\\n",
       "667453  id0960144          1  2016-05-23 11:50:39  2016-05-23 12:30:39   \n",
       "259621  id1609812          2  2016-04-03 00:46:49  2016-04-03 01:02:05   \n",
       "442858  id1064861          2  2016-01-06 09:50:33  2016-01-06 09:59:01   \n",
       "184490  id0923807          2  2016-06-14 08:01:54  2016-06-14 08:08:18   \n",
       "427297  id2258728          2  2016-04-29 00:00:11  2016-04-29 00:35:20   \n",
       "\n",
       "        passenger_count  pickup_longitude  pickup_latitude  dropoff_longitude  \\\n",
       "667453                1        -73.981880        40.768471         -73.861732   \n",
       "259621                1        -73.978706        40.728539         -73.957970   \n",
       "442858                1        -73.990952        40.750530         -73.978958   \n",
       "184490                2        -73.959389        40.771790         -73.979927   \n",
       "427297                2        -73.980087        40.754738         -73.964012   \n",
       "\n",
       "        dropoff_latitude store_and_fwd_flag  trip_duration  \n",
       "667453         40.768391                  N           2400  \n",
       "259621         40.773560                  N            916  \n",
       "442858         40.737049                  N            508  \n",
       "184490         40.770950                  N            384  \n",
       "427297         40.644077                  N           2109  "
      ]
     },
     "execution_count": 5,
     "metadata": {},
     "output_type": "execute_result"
    }
   ],
   "source": [
    "data.sample(5)"
   ]
  },
  {
   "cell_type": "code",
   "execution_count": 6,
   "id": "30040280",
   "metadata": {},
   "outputs": [
    {
     "name": "stdout",
     "output_type": "stream",
     "text": [
      "<class 'pandas.core.frame.DataFrame'>\n",
      "RangeIndex: 729322 entries, 0 to 729321\n",
      "Data columns (total 11 columns):\n",
      " #   Column              Non-Null Count   Dtype  \n",
      "---  ------              --------------   -----  \n",
      " 0   id                  729322 non-null  object \n",
      " 1   vendor_id           729322 non-null  int64  \n",
      " 2   pickup_datetime     729322 non-null  object \n",
      " 3   dropoff_datetime    729322 non-null  object \n",
      " 4   passenger_count     729322 non-null  int64  \n",
      " 5   pickup_longitude    729322 non-null  float64\n",
      " 6   pickup_latitude     729322 non-null  float64\n",
      " 7   dropoff_longitude   729322 non-null  float64\n",
      " 8   dropoff_latitude    729322 non-null  float64\n",
      " 9   store_and_fwd_flag  729322 non-null  object \n",
      " 10  trip_duration       729322 non-null  int64  \n",
      "dtypes: float64(4), int64(3), object(4)\n",
      "memory usage: 61.2+ MB\n"
     ]
    }
   ],
   "source": [
    "data.info()"
   ]
  },
  {
   "cell_type": "code",
   "execution_count": 7,
   "id": "a0c33ae1",
   "metadata": {},
   "outputs": [
    {
     "data": {
      "text/plain": [
       "id                    0\n",
       "vendor_id             0\n",
       "pickup_datetime       0\n",
       "dropoff_datetime      0\n",
       "passenger_count       0\n",
       "pickup_longitude      0\n",
       "pickup_latitude       0\n",
       "dropoff_longitude     0\n",
       "dropoff_latitude      0\n",
       "store_and_fwd_flag    0\n",
       "trip_duration         0\n",
       "dtype: int64"
      ]
     },
     "execution_count": 7,
     "metadata": {},
     "output_type": "execute_result"
    }
   ],
   "source": [
    "data.isna().sum()"
   ]
  },
  {
   "cell_type": "code",
   "execution_count": 8,
   "id": "983aa4b9",
   "metadata": {},
   "outputs": [
    {
     "data": {
      "text/plain": [
       "0"
      ]
     },
     "execution_count": 8,
     "metadata": {},
     "output_type": "execute_result"
    }
   ],
   "source": [
    "data.duplicated().sum()"
   ]
  },
  {
   "cell_type": "code",
   "execution_count": 9,
   "id": "7e09a396",
   "metadata": {},
   "outputs": [],
   "source": [
    "data.pickup_datetime = pd.to_datetime(data.pickup_datetime)\n",
    "data.dropoff_datetime = pd.to_datetime(data.dropoff_datetime)"
   ]
  },
  {
   "cell_type": "code",
   "execution_count": 10,
   "id": "af244ad5",
   "metadata": {},
   "outputs": [
    {
     "data": {
      "text/plain": [
       "id                            object\n",
       "vendor_id                      int64\n",
       "pickup_datetime       datetime64[ns]\n",
       "dropoff_datetime      datetime64[ns]\n",
       "passenger_count                int64\n",
       "pickup_longitude             float64\n",
       "pickup_latitude              float64\n",
       "dropoff_longitude            float64\n",
       "dropoff_latitude             float64\n",
       "store_and_fwd_flag            object\n",
       "trip_duration                  int64\n",
       "dtype: object"
      ]
     },
     "execution_count": 10,
     "metadata": {},
     "output_type": "execute_result"
    }
   ],
   "source": [
    "data.dtypes"
   ]
  },
  {
   "cell_type": "code",
   "execution_count": 11,
   "id": "83438a8f",
   "metadata": {
    "scrolled": true
   },
   "outputs": [
    {
     "data": {
      "text/html": [
       "<div>\n",
       "<style scoped>\n",
       "    .dataframe tbody tr th:only-of-type {\n",
       "        vertical-align: middle;\n",
       "    }\n",
       "\n",
       "    .dataframe tbody tr th {\n",
       "        vertical-align: top;\n",
       "    }\n",
       "\n",
       "    .dataframe thead th {\n",
       "        text-align: right;\n",
       "    }\n",
       "</style>\n",
       "<table border=\"1\" class=\"dataframe\">\n",
       "  <thead>\n",
       "    <tr style=\"text-align: right;\">\n",
       "      <th></th>\n",
       "      <th>id</th>\n",
       "      <th>vendor_id</th>\n",
       "      <th>pickup_datetime</th>\n",
       "      <th>dropoff_datetime</th>\n",
       "      <th>passenger_count</th>\n",
       "      <th>pickup_longitude</th>\n",
       "      <th>pickup_latitude</th>\n",
       "      <th>dropoff_longitude</th>\n",
       "      <th>dropoff_latitude</th>\n",
       "      <th>store_and_fwd_flag</th>\n",
       "      <th>trip_duration</th>\n",
       "    </tr>\n",
       "  </thead>\n",
       "  <tbody>\n",
       "    <tr>\n",
       "      <th>0</th>\n",
       "      <td>id1080784</td>\n",
       "      <td>2</td>\n",
       "      <td>2016-02-29 16:40:21</td>\n",
       "      <td>2016-02-29 16:47:01</td>\n",
       "      <td>1</td>\n",
       "      <td>-73.953918</td>\n",
       "      <td>40.778873</td>\n",
       "      <td>-73.963875</td>\n",
       "      <td>40.771164</td>\n",
       "      <td>N</td>\n",
       "      <td>400</td>\n",
       "    </tr>\n",
       "    <tr>\n",
       "      <th>1</th>\n",
       "      <td>id0889885</td>\n",
       "      <td>1</td>\n",
       "      <td>2016-03-11 23:35:37</td>\n",
       "      <td>2016-03-11 23:53:57</td>\n",
       "      <td>2</td>\n",
       "      <td>-73.988312</td>\n",
       "      <td>40.731743</td>\n",
       "      <td>-73.994751</td>\n",
       "      <td>40.694931</td>\n",
       "      <td>N</td>\n",
       "      <td>1100</td>\n",
       "    </tr>\n",
       "    <tr>\n",
       "      <th>2</th>\n",
       "      <td>id0857912</td>\n",
       "      <td>2</td>\n",
       "      <td>2016-02-21 17:59:33</td>\n",
       "      <td>2016-02-21 18:26:48</td>\n",
       "      <td>2</td>\n",
       "      <td>-73.997314</td>\n",
       "      <td>40.721458</td>\n",
       "      <td>-73.948029</td>\n",
       "      <td>40.774918</td>\n",
       "      <td>N</td>\n",
       "      <td>1635</td>\n",
       "    </tr>\n",
       "    <tr>\n",
       "      <th>3</th>\n",
       "      <td>id3744273</td>\n",
       "      <td>2</td>\n",
       "      <td>2016-01-05 09:44:31</td>\n",
       "      <td>2016-01-05 10:03:32</td>\n",
       "      <td>6</td>\n",
       "      <td>-73.961670</td>\n",
       "      <td>40.759720</td>\n",
       "      <td>-73.956779</td>\n",
       "      <td>40.780628</td>\n",
       "      <td>N</td>\n",
       "      <td>1141</td>\n",
       "    </tr>\n",
       "    <tr>\n",
       "      <th>4</th>\n",
       "      <td>id0232939</td>\n",
       "      <td>1</td>\n",
       "      <td>2016-02-17 06:42:23</td>\n",
       "      <td>2016-02-17 06:56:31</td>\n",
       "      <td>1</td>\n",
       "      <td>-74.017120</td>\n",
       "      <td>40.708469</td>\n",
       "      <td>-73.988182</td>\n",
       "      <td>40.740631</td>\n",
       "      <td>N</td>\n",
       "      <td>848</td>\n",
       "    </tr>\n",
       "  </tbody>\n",
       "</table>\n",
       "</div>"
      ],
      "text/plain": [
       "          id  vendor_id     pickup_datetime    dropoff_datetime  \\\n",
       "0  id1080784          2 2016-02-29 16:40:21 2016-02-29 16:47:01   \n",
       "1  id0889885          1 2016-03-11 23:35:37 2016-03-11 23:53:57   \n",
       "2  id0857912          2 2016-02-21 17:59:33 2016-02-21 18:26:48   \n",
       "3  id3744273          2 2016-01-05 09:44:31 2016-01-05 10:03:32   \n",
       "4  id0232939          1 2016-02-17 06:42:23 2016-02-17 06:56:31   \n",
       "\n",
       "   passenger_count  pickup_longitude  pickup_latitude  dropoff_longitude  \\\n",
       "0                1        -73.953918        40.778873         -73.963875   \n",
       "1                2        -73.988312        40.731743         -73.994751   \n",
       "2                2        -73.997314        40.721458         -73.948029   \n",
       "3                6        -73.961670        40.759720         -73.956779   \n",
       "4                1        -74.017120        40.708469         -73.988182   \n",
       "\n",
       "   dropoff_latitude store_and_fwd_flag  trip_duration  \n",
       "0         40.771164                  N            400  \n",
       "1         40.694931                  N           1100  \n",
       "2         40.774918                  N           1635  \n",
       "3         40.780628                  N           1141  \n",
       "4         40.740631                  N            848  "
      ]
     },
     "execution_count": 11,
     "metadata": {},
     "output_type": "execute_result"
    }
   ],
   "source": [
    "data.head()"
   ]
  },
  {
   "cell_type": "code",
   "execution_count": 12,
   "id": "7b5afc07",
   "metadata": {},
   "outputs": [],
   "source": [
    "data['pickup_day'] = data.pickup_datetime.dt.day\n",
    "data['pickup_day_name'] = data.pickup_datetime.dt.day_name()\n",
    "data['pickup_month_name'] = data.pickup_datetime.dt.month_name()\n",
    "data['pickup_hour'] = data.pickup_datetime.dt.hour\n",
    "\n",
    "data['dropoff_day'] = data.dropoff_datetime.dt.day\n",
    "data['dropoff_day_name'] = data.dropoff_datetime.dt.day_name()\n",
    "data['dropoff_month_name'] = data.dropoff_datetime.dt.month_name()\n",
    "data['dropoff_hour'] = data.dropoff_datetime.dt.hour\n",
    "    "
   ]
  },
  {
   "cell_type": "code",
   "execution_count": 13,
   "id": "c3674589",
   "metadata": {},
   "outputs": [
    {
     "data": {
      "text/html": [
       "<div>\n",
       "<style scoped>\n",
       "    .dataframe tbody tr th:only-of-type {\n",
       "        vertical-align: middle;\n",
       "    }\n",
       "\n",
       "    .dataframe tbody tr th {\n",
       "        vertical-align: top;\n",
       "    }\n",
       "\n",
       "    .dataframe thead th {\n",
       "        text-align: right;\n",
       "    }\n",
       "</style>\n",
       "<table border=\"1\" class=\"dataframe\">\n",
       "  <thead>\n",
       "    <tr style=\"text-align: right;\">\n",
       "      <th></th>\n",
       "      <th>id</th>\n",
       "      <th>vendor_id</th>\n",
       "      <th>pickup_datetime</th>\n",
       "      <th>dropoff_datetime</th>\n",
       "      <th>passenger_count</th>\n",
       "      <th>pickup_longitude</th>\n",
       "      <th>pickup_latitude</th>\n",
       "      <th>dropoff_longitude</th>\n",
       "      <th>dropoff_latitude</th>\n",
       "      <th>store_and_fwd_flag</th>\n",
       "      <th>trip_duration</th>\n",
       "      <th>pickup_day</th>\n",
       "      <th>pickup_day_name</th>\n",
       "      <th>pickup_month_name</th>\n",
       "      <th>pickup_hour</th>\n",
       "      <th>dropoff_day</th>\n",
       "      <th>dropoff_day_name</th>\n",
       "      <th>dropoff_month_name</th>\n",
       "      <th>dropoff_hour</th>\n",
       "    </tr>\n",
       "  </thead>\n",
       "  <tbody>\n",
       "    <tr>\n",
       "      <th>0</th>\n",
       "      <td>id1080784</td>\n",
       "      <td>2</td>\n",
       "      <td>2016-02-29 16:40:21</td>\n",
       "      <td>2016-02-29 16:47:01</td>\n",
       "      <td>1</td>\n",
       "      <td>-73.953918</td>\n",
       "      <td>40.778873</td>\n",
       "      <td>-73.963875</td>\n",
       "      <td>40.771164</td>\n",
       "      <td>N</td>\n",
       "      <td>400</td>\n",
       "      <td>29</td>\n",
       "      <td>Monday</td>\n",
       "      <td>February</td>\n",
       "      <td>16</td>\n",
       "      <td>29</td>\n",
       "      <td>Monday</td>\n",
       "      <td>February</td>\n",
       "      <td>16</td>\n",
       "    </tr>\n",
       "    <tr>\n",
       "      <th>1</th>\n",
       "      <td>id0889885</td>\n",
       "      <td>1</td>\n",
       "      <td>2016-03-11 23:35:37</td>\n",
       "      <td>2016-03-11 23:53:57</td>\n",
       "      <td>2</td>\n",
       "      <td>-73.988312</td>\n",
       "      <td>40.731743</td>\n",
       "      <td>-73.994751</td>\n",
       "      <td>40.694931</td>\n",
       "      <td>N</td>\n",
       "      <td>1100</td>\n",
       "      <td>11</td>\n",
       "      <td>Friday</td>\n",
       "      <td>March</td>\n",
       "      <td>23</td>\n",
       "      <td>11</td>\n",
       "      <td>Friday</td>\n",
       "      <td>March</td>\n",
       "      <td>23</td>\n",
       "    </tr>\n",
       "    <tr>\n",
       "      <th>2</th>\n",
       "      <td>id0857912</td>\n",
       "      <td>2</td>\n",
       "      <td>2016-02-21 17:59:33</td>\n",
       "      <td>2016-02-21 18:26:48</td>\n",
       "      <td>2</td>\n",
       "      <td>-73.997314</td>\n",
       "      <td>40.721458</td>\n",
       "      <td>-73.948029</td>\n",
       "      <td>40.774918</td>\n",
       "      <td>N</td>\n",
       "      <td>1635</td>\n",
       "      <td>21</td>\n",
       "      <td>Sunday</td>\n",
       "      <td>February</td>\n",
       "      <td>17</td>\n",
       "      <td>21</td>\n",
       "      <td>Sunday</td>\n",
       "      <td>February</td>\n",
       "      <td>18</td>\n",
       "    </tr>\n",
       "    <tr>\n",
       "      <th>3</th>\n",
       "      <td>id3744273</td>\n",
       "      <td>2</td>\n",
       "      <td>2016-01-05 09:44:31</td>\n",
       "      <td>2016-01-05 10:03:32</td>\n",
       "      <td>6</td>\n",
       "      <td>-73.961670</td>\n",
       "      <td>40.759720</td>\n",
       "      <td>-73.956779</td>\n",
       "      <td>40.780628</td>\n",
       "      <td>N</td>\n",
       "      <td>1141</td>\n",
       "      <td>5</td>\n",
       "      <td>Tuesday</td>\n",
       "      <td>January</td>\n",
       "      <td>9</td>\n",
       "      <td>5</td>\n",
       "      <td>Tuesday</td>\n",
       "      <td>January</td>\n",
       "      <td>10</td>\n",
       "    </tr>\n",
       "    <tr>\n",
       "      <th>4</th>\n",
       "      <td>id0232939</td>\n",
       "      <td>1</td>\n",
       "      <td>2016-02-17 06:42:23</td>\n",
       "      <td>2016-02-17 06:56:31</td>\n",
       "      <td>1</td>\n",
       "      <td>-74.017120</td>\n",
       "      <td>40.708469</td>\n",
       "      <td>-73.988182</td>\n",
       "      <td>40.740631</td>\n",
       "      <td>N</td>\n",
       "      <td>848</td>\n",
       "      <td>17</td>\n",
       "      <td>Wednesday</td>\n",
       "      <td>February</td>\n",
       "      <td>6</td>\n",
       "      <td>17</td>\n",
       "      <td>Wednesday</td>\n",
       "      <td>February</td>\n",
       "      <td>6</td>\n",
       "    </tr>\n",
       "  </tbody>\n",
       "</table>\n",
       "</div>"
      ],
      "text/plain": [
       "          id  vendor_id     pickup_datetime    dropoff_datetime  \\\n",
       "0  id1080784          2 2016-02-29 16:40:21 2016-02-29 16:47:01   \n",
       "1  id0889885          1 2016-03-11 23:35:37 2016-03-11 23:53:57   \n",
       "2  id0857912          2 2016-02-21 17:59:33 2016-02-21 18:26:48   \n",
       "3  id3744273          2 2016-01-05 09:44:31 2016-01-05 10:03:32   \n",
       "4  id0232939          1 2016-02-17 06:42:23 2016-02-17 06:56:31   \n",
       "\n",
       "   passenger_count  pickup_longitude  pickup_latitude  dropoff_longitude  \\\n",
       "0                1        -73.953918        40.778873         -73.963875   \n",
       "1                2        -73.988312        40.731743         -73.994751   \n",
       "2                2        -73.997314        40.721458         -73.948029   \n",
       "3                6        -73.961670        40.759720         -73.956779   \n",
       "4                1        -74.017120        40.708469         -73.988182   \n",
       "\n",
       "   dropoff_latitude store_and_fwd_flag  trip_duration  pickup_day  \\\n",
       "0         40.771164                  N            400          29   \n",
       "1         40.694931                  N           1100          11   \n",
       "2         40.774918                  N           1635          21   \n",
       "3         40.780628                  N           1141           5   \n",
       "4         40.740631                  N            848          17   \n",
       "\n",
       "  pickup_day_name pickup_month_name  pickup_hour  dropoff_day  \\\n",
       "0          Monday          February           16           29   \n",
       "1          Friday             March           23           11   \n",
       "2          Sunday          February           17           21   \n",
       "3         Tuesday           January            9            5   \n",
       "4       Wednesday          February            6           17   \n",
       "\n",
       "  dropoff_day_name dropoff_month_name  dropoff_hour  \n",
       "0           Monday           February            16  \n",
       "1           Friday              March            23  \n",
       "2           Sunday           February            18  \n",
       "3          Tuesday            January            10  \n",
       "4        Wednesday           February             6  "
      ]
     },
     "execution_count": 13,
     "metadata": {},
     "output_type": "execute_result"
    }
   ],
   "source": [
    "data.head()"
   ]
  },
  {
   "cell_type": "code",
   "execution_count": 14,
   "id": "e619e0fc",
   "metadata": {},
   "outputs": [],
   "source": [
    "def haversine(lat1, lng1, lat2, lng2):\n",
    "    \"\"\"function to calculate haversine distance between two co-ordinates\"\"\"\n",
    "    lat1, lng1, lat2, lng2 = map(np.radians, (lat1, lng1, lat2, lng2))\n",
    "    AVG_EARTH_RADIUS = 6371  # in km\n",
    "    lat = lat2 - lat1\n",
    "    lng = lng2 - lng1\n",
    "    d = np.sin(lat * 0.5) ** 2 + np.cos(lat1) * np.cos(lat2) * np.sin(lng * 0.5) ** 2\n",
    "    h = 2 * AVG_EARTH_RADIUS * np.arcsin(np.sqrt(d))\n",
    "    return(h)\n",
    "data.loc[:, 'distance'] = haversine(data['pickup_latitude'], data['pickup_longitude'], data['dropoff_latitude'], data['dropoff_longitude'])\n"
   ]
  },
  {
   "cell_type": "code",
   "execution_count": 15,
   "id": "bc3ef019",
   "metadata": {},
   "outputs": [
    {
     "data": {
      "text/html": [
       "<div>\n",
       "<style scoped>\n",
       "    .dataframe tbody tr th:only-of-type {\n",
       "        vertical-align: middle;\n",
       "    }\n",
       "\n",
       "    .dataframe tbody tr th {\n",
       "        vertical-align: top;\n",
       "    }\n",
       "\n",
       "    .dataframe thead th {\n",
       "        text-align: right;\n",
       "    }\n",
       "</style>\n",
       "<table border=\"1\" class=\"dataframe\">\n",
       "  <thead>\n",
       "    <tr style=\"text-align: right;\">\n",
       "      <th></th>\n",
       "      <th>id</th>\n",
       "      <th>vendor_id</th>\n",
       "      <th>pickup_datetime</th>\n",
       "      <th>dropoff_datetime</th>\n",
       "      <th>passenger_count</th>\n",
       "      <th>pickup_longitude</th>\n",
       "      <th>pickup_latitude</th>\n",
       "      <th>dropoff_longitude</th>\n",
       "      <th>dropoff_latitude</th>\n",
       "      <th>store_and_fwd_flag</th>\n",
       "      <th>trip_duration</th>\n",
       "      <th>pickup_day</th>\n",
       "      <th>pickup_day_name</th>\n",
       "      <th>pickup_month_name</th>\n",
       "      <th>pickup_hour</th>\n",
       "      <th>dropoff_day</th>\n",
       "      <th>dropoff_day_name</th>\n",
       "      <th>dropoff_month_name</th>\n",
       "      <th>dropoff_hour</th>\n",
       "      <th>distance</th>\n",
       "    </tr>\n",
       "  </thead>\n",
       "  <tbody>\n",
       "    <tr>\n",
       "      <th>0</th>\n",
       "      <td>id1080784</td>\n",
       "      <td>2</td>\n",
       "      <td>2016-02-29 16:40:21</td>\n",
       "      <td>2016-02-29 16:47:01</td>\n",
       "      <td>1</td>\n",
       "      <td>-73.953918</td>\n",
       "      <td>40.778873</td>\n",
       "      <td>-73.963875</td>\n",
       "      <td>40.771164</td>\n",
       "      <td>N</td>\n",
       "      <td>400</td>\n",
       "      <td>29</td>\n",
       "      <td>Monday</td>\n",
       "      <td>February</td>\n",
       "      <td>16</td>\n",
       "      <td>29</td>\n",
       "      <td>Monday</td>\n",
       "      <td>February</td>\n",
       "      <td>16</td>\n",
       "      <td>1.199073</td>\n",
       "    </tr>\n",
       "    <tr>\n",
       "      <th>1</th>\n",
       "      <td>id0889885</td>\n",
       "      <td>1</td>\n",
       "      <td>2016-03-11 23:35:37</td>\n",
       "      <td>2016-03-11 23:53:57</td>\n",
       "      <td>2</td>\n",
       "      <td>-73.988312</td>\n",
       "      <td>40.731743</td>\n",
       "      <td>-73.994751</td>\n",
       "      <td>40.694931</td>\n",
       "      <td>N</td>\n",
       "      <td>1100</td>\n",
       "      <td>11</td>\n",
       "      <td>Friday</td>\n",
       "      <td>March</td>\n",
       "      <td>23</td>\n",
       "      <td>11</td>\n",
       "      <td>Friday</td>\n",
       "      <td>March</td>\n",
       "      <td>23</td>\n",
       "      <td>4.129111</td>\n",
       "    </tr>\n",
       "    <tr>\n",
       "      <th>2</th>\n",
       "      <td>id0857912</td>\n",
       "      <td>2</td>\n",
       "      <td>2016-02-21 17:59:33</td>\n",
       "      <td>2016-02-21 18:26:48</td>\n",
       "      <td>2</td>\n",
       "      <td>-73.997314</td>\n",
       "      <td>40.721458</td>\n",
       "      <td>-73.948029</td>\n",
       "      <td>40.774918</td>\n",
       "      <td>N</td>\n",
       "      <td>1635</td>\n",
       "      <td>21</td>\n",
       "      <td>Sunday</td>\n",
       "      <td>February</td>\n",
       "      <td>17</td>\n",
       "      <td>21</td>\n",
       "      <td>Sunday</td>\n",
       "      <td>February</td>\n",
       "      <td>18</td>\n",
       "      <td>7.250753</td>\n",
       "    </tr>\n",
       "    <tr>\n",
       "      <th>3</th>\n",
       "      <td>id3744273</td>\n",
       "      <td>2</td>\n",
       "      <td>2016-01-05 09:44:31</td>\n",
       "      <td>2016-01-05 10:03:32</td>\n",
       "      <td>6</td>\n",
       "      <td>-73.961670</td>\n",
       "      <td>40.759720</td>\n",
       "      <td>-73.956779</td>\n",
       "      <td>40.780628</td>\n",
       "      <td>N</td>\n",
       "      <td>1141</td>\n",
       "      <td>5</td>\n",
       "      <td>Tuesday</td>\n",
       "      <td>January</td>\n",
       "      <td>9</td>\n",
       "      <td>5</td>\n",
       "      <td>Tuesday</td>\n",
       "      <td>January</td>\n",
       "      <td>10</td>\n",
       "      <td>2.361097</td>\n",
       "    </tr>\n",
       "    <tr>\n",
       "      <th>4</th>\n",
       "      <td>id0232939</td>\n",
       "      <td>1</td>\n",
       "      <td>2016-02-17 06:42:23</td>\n",
       "      <td>2016-02-17 06:56:31</td>\n",
       "      <td>1</td>\n",
       "      <td>-74.017120</td>\n",
       "      <td>40.708469</td>\n",
       "      <td>-73.988182</td>\n",
       "      <td>40.740631</td>\n",
       "      <td>N</td>\n",
       "      <td>848</td>\n",
       "      <td>17</td>\n",
       "      <td>Wednesday</td>\n",
       "      <td>February</td>\n",
       "      <td>6</td>\n",
       "      <td>17</td>\n",
       "      <td>Wednesday</td>\n",
       "      <td>February</td>\n",
       "      <td>6</td>\n",
       "      <td>4.328534</td>\n",
       "    </tr>\n",
       "  </tbody>\n",
       "</table>\n",
       "</div>"
      ],
      "text/plain": [
       "          id  vendor_id     pickup_datetime    dropoff_datetime  \\\n",
       "0  id1080784          2 2016-02-29 16:40:21 2016-02-29 16:47:01   \n",
       "1  id0889885          1 2016-03-11 23:35:37 2016-03-11 23:53:57   \n",
       "2  id0857912          2 2016-02-21 17:59:33 2016-02-21 18:26:48   \n",
       "3  id3744273          2 2016-01-05 09:44:31 2016-01-05 10:03:32   \n",
       "4  id0232939          1 2016-02-17 06:42:23 2016-02-17 06:56:31   \n",
       "\n",
       "   passenger_count  pickup_longitude  pickup_latitude  dropoff_longitude  \\\n",
       "0                1        -73.953918        40.778873         -73.963875   \n",
       "1                2        -73.988312        40.731743         -73.994751   \n",
       "2                2        -73.997314        40.721458         -73.948029   \n",
       "3                6        -73.961670        40.759720         -73.956779   \n",
       "4                1        -74.017120        40.708469         -73.988182   \n",
       "\n",
       "   dropoff_latitude store_and_fwd_flag  trip_duration  pickup_day  \\\n",
       "0         40.771164                  N            400          29   \n",
       "1         40.694931                  N           1100          11   \n",
       "2         40.774918                  N           1635          21   \n",
       "3         40.780628                  N           1141           5   \n",
       "4         40.740631                  N            848          17   \n",
       "\n",
       "  pickup_day_name pickup_month_name  pickup_hour  dropoff_day  \\\n",
       "0          Monday          February           16           29   \n",
       "1          Friday             March           23           11   \n",
       "2          Sunday          February           17           21   \n",
       "3         Tuesday           January            9            5   \n",
       "4       Wednesday          February            6           17   \n",
       "\n",
       "  dropoff_day_name dropoff_month_name  dropoff_hour  distance  \n",
       "0           Monday           February            16  1.199073  \n",
       "1           Friday              March            23  4.129111  \n",
       "2           Sunday           February            18  7.250753  \n",
       "3          Tuesday            January            10  2.361097  \n",
       "4        Wednesday           February             6  4.328534  "
      ]
     },
     "execution_count": 15,
     "metadata": {},
     "output_type": "execute_result"
    }
   ],
   "source": [
    "data.head()"
   ]
  },
  {
   "cell_type": "code",
   "execution_count": 16,
   "id": "5e7bac2b",
   "metadata": {},
   "outputs": [
    {
     "data": {
      "text/plain": [
       "id                            object\n",
       "vendor_id                      int64\n",
       "pickup_datetime       datetime64[ns]\n",
       "dropoff_datetime      datetime64[ns]\n",
       "passenger_count                int64\n",
       "pickup_longitude             float64\n",
       "pickup_latitude              float64\n",
       "dropoff_longitude            float64\n",
       "dropoff_latitude             float64\n",
       "store_and_fwd_flag            object\n",
       "trip_duration                  int64\n",
       "pickup_day                     int64\n",
       "pickup_day_name               object\n",
       "pickup_month_name             object\n",
       "pickup_hour                    int64\n",
       "dropoff_day                    int64\n",
       "dropoff_day_name              object\n",
       "dropoff_month_name            object\n",
       "dropoff_hour                   int64\n",
       "distance                     float64\n",
       "dtype: object"
      ]
     },
     "execution_count": 16,
     "metadata": {},
     "output_type": "execute_result"
    }
   ],
   "source": [
    "data.dtypes"
   ]
  },
  {
   "cell_type": "code",
   "execution_count": 17,
   "id": "50268395",
   "metadata": {},
   "outputs": [
    {
     "data": {
      "text/plain": [
       "2    390481\n",
       "1    338841\n",
       "Name: vendor_id, dtype: int64"
      ]
     },
     "execution_count": 17,
     "metadata": {},
     "output_type": "execute_result"
    }
   ],
   "source": [
    "data.vendor_id.value_counts()"
   ]
  },
  {
   "cell_type": "code",
   "execution_count": 18,
   "id": "ab7d1baf",
   "metadata": {},
   "outputs": [],
   "source": [
    "data['vendor_id'] = data['vendor_id'].astype('category')\n",
    "data['store_and_fwd_flag'] = data['store_and_fwd_flag'].astype('category')"
   ]
  },
  {
   "cell_type": "code",
   "execution_count": 19,
   "id": "793f9fb7",
   "metadata": {},
   "outputs": [
    {
     "data": {
      "text/plain": [
       "vendor_id             category\n",
       "store_and_fwd_flag    category\n",
       "dtype: object"
      ]
     },
     "execution_count": 19,
     "metadata": {},
     "output_type": "execute_result"
    }
   ],
   "source": [
    "data[['vendor_id','store_and_fwd_flag']].dtypes"
   ]
  },
  {
   "cell_type": "code",
   "execution_count": 20,
   "id": "a0920264",
   "metadata": {},
   "outputs": [
    {
     "data": {
      "text/plain": [
       "<AxesSubplot:xlabel='vendor_id', ylabel='count'>"
      ]
     },
     "execution_count": 20,
     "metadata": {},
     "output_type": "execute_result"
    },
    {
     "data": {
      "image/png": "[encoded data removed]",
      "text/plain": [
       "<Figure size 432x288 with 1 Axes>"
      ]
     },
     "metadata": {},
     "output_type": "display_data"
    }
   ],
   "source": [
    "sns.countplot(data['vendor_id'])"
   ]
  },
  {
   "cell_type": "code",
   "execution_count": 21,
   "id": "594d80e8",
   "metadata": {},
   "outputs": [
    {
     "data": {
      "text/plain": [
       "<AxesSubplot:ylabel='vendor_id'>"
      ]
     },
     "execution_count": 21,
     "metadata": {},
     "output_type": "execute_result"
    },
    {
     "data": {
      "image/png": "[encoded data removed]",
      "text/plain": [
       "<Figure size 432x288 with 1 Axes>"
      ]
     },
     "metadata": {},
     "output_type": "display_data"
    }
   ],
   "source": [
    "data['vendor_id'].value_counts().plot(kind='pie',autopct='%.2f')"
   ]
  },
  {
   "cell_type": "code",
   "execution_count": 22,
   "id": "7bf402e4",
   "metadata": {},
   "outputs": [
    {
     "data": {
      "text/plain": [
       "<AxesSubplot:ylabel='store_and_fwd_flag'>"
      ]
     },
     "execution_count": 22,
     "metadata": {},
     "output_type": "execute_result"
    },
    {
     "data": {
      "image/png": "[encoded data removed]",
      "text/plain": [
       "<Figure size 432x288 with 1 Axes>"
      ]
     },
     "metadata": {},
     "output_type": "display_data"
    }
   ],
   "source": [
    "data['store_and_fwd_flag'].value_counts().plot(kind='pie',autopct='%.2f')"
   ]
  },
  {
   "cell_type": "code",
   "execution_count": 23,
   "id": "5757c24a",
   "metadata": {
    "scrolled": true
   },
   "outputs": [
    {
     "data": {
      "text/plain": [
       "<AxesSubplot:xlabel='dropoff_day_name', ylabel='count'>"
      ]
     },
     "execution_count": 23,
     "metadata": {},
     "output_type": "execute_result"
    },
    {
     "data": {
      "image/png": "[encoded data removed]",
      "text/plain": [
       "<Figure size 1008x288 with 2 Axes>"
      ]
     },
     "metadata": {},
     "output_type": "display_data"
    }
   ],
   "source": [
    "fig, ax = plt.subplots(nrows=1, ncols=2, figsize=(14,4))\n",
    "\n",
    "sns.countplot(data['pickup_day_name'],ax=ax[0],order=['Monday','Tuesday','Wednesday','Thursday','Friday','Saturday','Sunday'])\n",
    "\n",
    "sns.countplot(data['dropoff_day_name'],ax=ax[1],order=['Monday','Tuesday','Wednesday','Thursday','Friday','Saturday','Sunday'])\n",
    "\n"
   ]
  },
  {
   "cell_type": "code",
   "execution_count": 24,
   "id": "7e4adcf2",
   "metadata": {},
   "outputs": [
    {
     "data": {
      "text/plain": [
       "([<matplotlib.patches.Wedge at 0x2610027d550>,\n",
       "  <matplotlib.patches.Wedge at 0x2610027dcd0>],\n",
       " [Text(-0.6874813173382036, 0.8587021825469693, ''),\n",
       "  Text(0.6874813173382038, -0.8587021825469691, '')],\n",
       " [Text(-0.3749898094572019, 0.4683830086619832, '71%'),\n",
       "  Text(0.37498980945720206, -0.468383008661983, '29%')])"
      ]
     },
     "execution_count": 24,
     "metadata": {},
     "output_type": "execute_result"
    },
    {
     "data": {
      "image/png": "[encoded data removed]",
      "text/plain": [
       "<Figure size 432x288 with 1 Axes>"
      ]
     },
     "metadata": {},
     "output_type": "display_data"
    }
   ],
   "source": [
    "weekend = ['Sunday','Saturday']\n",
    "week_day = ['Monday','Tuesday','Wednesday','Thursday','Friday']\n",
    "data['day_type'] = data['pickup_day_name'].apply(lambda x:'weekend' if x in weekend else 'weekday')\n",
    "\n",
    "plt.pie(data['day_type'].value_counts(),autopct='%0.0f%%')\n"
   ]
  },
  {
   "cell_type": "code",
   "execution_count": 25,
   "id": "91e62df5",
   "metadata": {},
   "outputs": [],
   "source": [
    "# plt.pie(data['day_type'].value_counts())"
   ]
  },
  {
   "cell_type": "code",
   "execution_count": 26,
   "id": "1939a08f",
   "metadata": {
    "scrolled": false
   },
   "outputs": [
    {
     "data": {
      "text/plain": [
       "<AxesSubplot:xlabel='dropoff_hour', ylabel='count'>"
      ]
     },
     "execution_count": 26,
     "metadata": {},
     "output_type": "execute_result"
    },
    {
     "data": {
      "image/png": "[encoded data removed]",
      "text/plain": [
       "<Figure size 864x288 with 2 Axes>"
      ]
     },
     "metadata": {},
     "output_type": "display_data"
    }
   ],
   "source": [
    "\n",
    "fig, ax = plt.subplots(nrows=1, ncols=2, figsize=(12,4))\n",
    "\n",
    "\n",
    "sns.countplot(data['pickup_hour'],ax=ax[0])\n",
    "\n",
    "sns.countplot(data['dropoff_hour'],ax=ax[1])\n",
    "\n",
    "\n"
   ]
  },
  {
   "cell_type": "code",
   "execution_count": 27,
   "id": "a6397ffe",
   "metadata": {},
   "outputs": [],
   "source": [
    "# fig, ax = plt.subplots(nrows=1, ncols=2, figsize=(12,4))\n",
    "\n",
    "\n",
    "# sns.countplot(data=data,ax=ax[0],x = pd.cut(data['pickup_hour'],[0,6,12,16,24]))\n",
    "\n",
    "# sns.countplot(data['dropoff_hour'],ax=ax[1])\n"
   ]
  },
  {
   "cell_type": "code",
   "execution_count": 28,
   "id": "a2c097f1",
   "metadata": {},
   "outputs": [
    {
     "data": {
      "text/plain": [
       "<AxesSubplot:xlabel='pickup_hour', ylabel='Density'>"
      ]
     },
     "execution_count": 28,
     "metadata": {},
     "output_type": "execute_result"
    },
    {
     "data": {
      "image/png": "[encoded data removed]",
      "text/plain": [
       "<Figure size 432x288 with 1 Axes>"
      ]
     },
     "metadata": {},
     "output_type": "display_data"
    }
   ],
   "source": [
    "sns.distplot(data['pickup_hour'],hist=False)"
   ]
  },
  {
   "cell_type": "code",
   "execution_count": 29,
   "id": "91e9329a",
   "metadata": {},
   "outputs": [],
   "source": [
    "def slot(x):\n",
    "    \n",
    "    if x >= 0 and x <= 6 :\n",
    "        x = 'Night'\n",
    "        \n",
    "    elif x>6 and x<=12 :\n",
    "        x = 'Morning'\n",
    "    \n",
    "    elif x>12 and x<=16 :\n",
    "        x = 'Afternoon'\n",
    "    else:\n",
    "        x = 'Evening'\n",
    "        \n",
    "    return x"
   ]
  },
  {
   "cell_type": "code",
   "execution_count": 30,
   "id": "d6bf9dcc",
   "metadata": {
    "scrolled": true
   },
   "outputs": [
    {
     "data": {
      "text/html": [
       "<div>\n",
       "<style scoped>\n",
       "    .dataframe tbody tr th:only-of-type {\n",
       "        vertical-align: middle;\n",
       "    }\n",
       "\n",
       "    .dataframe tbody tr th {\n",
       "        vertical-align: top;\n",
       "    }\n",
       "\n",
       "    .dataframe thead th {\n",
       "        text-align: right;\n",
       "    }\n",
       "</style>\n",
       "<table border=\"1\" class=\"dataframe\">\n",
       "  <thead>\n",
       "    <tr style=\"text-align: right;\">\n",
       "      <th></th>\n",
       "      <th>id</th>\n",
       "      <th>vendor_id</th>\n",
       "      <th>pickup_datetime</th>\n",
       "      <th>dropoff_datetime</th>\n",
       "      <th>passenger_count</th>\n",
       "      <th>pickup_longitude</th>\n",
       "      <th>pickup_latitude</th>\n",
       "      <th>dropoff_longitude</th>\n",
       "      <th>dropoff_latitude</th>\n",
       "      <th>store_and_fwd_flag</th>\n",
       "      <th>...</th>\n",
       "      <th>pickup_day_name</th>\n",
       "      <th>pickup_month_name</th>\n",
       "      <th>pickup_hour</th>\n",
       "      <th>dropoff_day</th>\n",
       "      <th>dropoff_day_name</th>\n",
       "      <th>dropoff_month_name</th>\n",
       "      <th>dropoff_hour</th>\n",
       "      <th>distance</th>\n",
       "      <th>day_type</th>\n",
       "      <th>time_slot</th>\n",
       "    </tr>\n",
       "  </thead>\n",
       "  <tbody>\n",
       "    <tr>\n",
       "      <th>0</th>\n",
       "      <td>id1080784</td>\n",
       "      <td>2</td>\n",
       "      <td>2016-02-29 16:40:21</td>\n",
       "      <td>2016-02-29 16:47:01</td>\n",
       "      <td>1</td>\n",
       "      <td>-73.953918</td>\n",
       "      <td>40.778873</td>\n",
       "      <td>-73.963875</td>\n",
       "      <td>40.771164</td>\n",
       "      <td>N</td>\n",
       "      <td>...</td>\n",
       "      <td>Monday</td>\n",
       "      <td>February</td>\n",
       "      <td>16</td>\n",
       "      <td>29</td>\n",
       "      <td>Monday</td>\n",
       "      <td>February</td>\n",
       "      <td>16</td>\n",
       "      <td>1.199073</td>\n",
       "      <td>weekday</td>\n",
       "      <td>Afternoon</td>\n",
       "    </tr>\n",
       "    <tr>\n",
       "      <th>1</th>\n",
       "      <td>id0889885</td>\n",
       "      <td>1</td>\n",
       "      <td>2016-03-11 23:35:37</td>\n",
       "      <td>2016-03-11 23:53:57</td>\n",
       "      <td>2</td>\n",
       "      <td>-73.988312</td>\n",
       "      <td>40.731743</td>\n",
       "      <td>-73.994751</td>\n",
       "      <td>40.694931</td>\n",
       "      <td>N</td>\n",
       "      <td>...</td>\n",
       "      <td>Friday</td>\n",
       "      <td>March</td>\n",
       "      <td>23</td>\n",
       "      <td>11</td>\n",
       "      <td>Friday</td>\n",
       "      <td>March</td>\n",
       "      <td>23</td>\n",
       "      <td>4.129111</td>\n",
       "      <td>weekday</td>\n",
       "      <td>Evening</td>\n",
       "    </tr>\n",
       "    <tr>\n",
       "      <th>2</th>\n",
       "      <td>id0857912</td>\n",
       "      <td>2</td>\n",
       "      <td>2016-02-21 17:59:33</td>\n",
       "      <td>2016-02-21 18:26:48</td>\n",
       "      <td>2</td>\n",
       "      <td>-73.997314</td>\n",
       "      <td>40.721458</td>\n",
       "      <td>-73.948029</td>\n",
       "      <td>40.774918</td>\n",
       "      <td>N</td>\n",
       "      <td>...</td>\n",
       "      <td>Sunday</td>\n",
       "      <td>February</td>\n",
       "      <td>17</td>\n",
       "      <td>21</td>\n",
       "      <td>Sunday</td>\n",
       "      <td>February</td>\n",
       "      <td>18</td>\n",
       "      <td>7.250753</td>\n",
       "      <td>weekend</td>\n",
       "      <td>Evening</td>\n",
       "    </tr>\n",
       "    <tr>\n",
       "      <th>3</th>\n",
       "      <td>id3744273</td>\n",
       "      <td>2</td>\n",
       "      <td>2016-01-05 09:44:31</td>\n",
       "      <td>2016-01-05 10:03:32</td>\n",
       "      <td>6</td>\n",
       "      <td>-73.961670</td>\n",
       "      <td>40.759720</td>\n",
       "      <td>-73.956779</td>\n",
       "      <td>40.780628</td>\n",
       "      <td>N</td>\n",
       "      <td>...</td>\n",
       "      <td>Tuesday</td>\n",
       "      <td>January</td>\n",
       "      <td>9</td>\n",
       "      <td>5</td>\n",
       "      <td>Tuesday</td>\n",
       "      <td>January</td>\n",
       "      <td>10</td>\n",
       "      <td>2.361097</td>\n",
       "      <td>weekday</td>\n",
       "      <td>Morning</td>\n",
       "    </tr>\n",
       "    <tr>\n",
       "      <th>4</th>\n",
       "      <td>id0232939</td>\n",
       "      <td>1</td>\n",
       "      <td>2016-02-17 06:42:23</td>\n",
       "      <td>2016-02-17 06:56:31</td>\n",
       "      <td>1</td>\n",
       "      <td>-74.017120</td>\n",
       "      <td>40.708469</td>\n",
       "      <td>-73.988182</td>\n",
       "      <td>40.740631</td>\n",
       "      <td>N</td>\n",
       "      <td>...</td>\n",
       "      <td>Wednesday</td>\n",
       "      <td>February</td>\n",
       "      <td>6</td>\n",
       "      <td>17</td>\n",
       "      <td>Wednesday</td>\n",
       "      <td>February</td>\n",
       "      <td>6</td>\n",
       "      <td>4.328534</td>\n",
       "      <td>weekday</td>\n",
       "      <td>Night</td>\n",
       "    </tr>\n",
       "  </tbody>\n",
       "</table>\n",
       "<p>5 rows × 22 columns</p>\n",
       "</div>"
      ],
      "text/plain": [
       "          id vendor_id     pickup_datetime    dropoff_datetime  \\\n",
       "0  id1080784         2 2016-02-29 16:40:21 2016-02-29 16:47:01   \n",
       "1  id0889885         1 2016-03-11 23:35:37 2016-03-11 23:53:57   \n",
       "2  id0857912         2 2016-02-21 17:59:33 2016-02-21 18:26:48   \n",
       "3  id3744273         2 2016-01-05 09:44:31 2016-01-05 10:03:32   \n",
       "4  id0232939         1 2016-02-17 06:42:23 2016-02-17 06:56:31   \n",
       "\n",
       "   passenger_count  pickup_longitude  pickup_latitude  dropoff_longitude  \\\n",
       "0                1        -73.953918        40.778873         -73.963875   \n",
       "1                2        -73.988312        40.731743         -73.994751   \n",
       "2                2        -73.997314        40.721458         -73.948029   \n",
       "3                6        -73.961670        40.759720         -73.956779   \n",
       "4                1        -74.017120        40.708469         -73.988182   \n",
       "\n",
       "   dropoff_latitude store_and_fwd_flag  ...  pickup_day_name  \\\n",
       "0         40.771164                  N  ...           Monday   \n",
       "1         40.694931                  N  ...           Friday   \n",
       "2         40.774918                  N  ...           Sunday   \n",
       "3         40.780628                  N  ...          Tuesday   \n",
       "4         40.740631                  N  ...        Wednesday   \n",
       "\n",
       "   pickup_month_name pickup_hour dropoff_day  dropoff_day_name  \\\n",
       "0           February          16          29            Monday   \n",
       "1              March          23          11            Friday   \n",
       "2           February          17          21            Sunday   \n",
       "3            January           9           5           Tuesday   \n",
       "4           February           6          17         Wednesday   \n",
       "\n",
       "   dropoff_month_name dropoff_hour  distance  day_type  time_slot  \n",
       "0            February           16  1.199073   weekday  Afternoon  \n",
       "1               March           23  4.129111   weekday    Evening  \n",
       "2            February           18  7.250753   weekend    Evening  \n",
       "3             January           10  2.361097   weekday    Morning  \n",
       "4            February            6  4.328534   weekday      Night  \n",
       "\n",
       "[5 rows x 22 columns]"
      ]
     },
     "execution_count": 30,
     "metadata": {},
     "output_type": "execute_result"
    }
   ],
   "source": [
    "data['time_slot'] = data['pickup_hour'].apply(lambda x : slot(x))\n",
    "\n",
    "data.head()"
   ]
  },
  {
   "cell_type": "code",
   "execution_count": 31,
   "id": "71516966",
   "metadata": {},
   "outputs": [
    {
     "data": {
      "text/plain": [
       "<AxesSubplot:xlabel='time_slot', ylabel='count'>"
      ]
     },
     "execution_count": 31,
     "metadata": {},
     "output_type": "execute_result"
    },
    {
     "data": {
      "image/png": "[encoded data removed]",
      "text/plain": [
       "<Figure size 432x288 with 1 Axes>"
      ]
     },
     "metadata": {},
     "output_type": "display_data"
    }
   ],
   "source": [
    "sns.countplot(data['time_slot'])"
   ]
  },
  {
   "cell_type": "code",
   "execution_count": 32,
   "id": "a6e1d854",
   "metadata": {},
   "outputs": [
    {
     "data": {
      "text/plain": [
       "<AxesSubplot:xlabel='day_type', ylabel='count'>"
      ]
     },
     "execution_count": 32,
     "metadata": {},
     "output_type": "execute_result"
    },
    {
     "data": {
      "image/png": "[encoded data removed]",
      "text/plain": [
       "<Figure size 432x288 with 1 Axes>"
      ]
     },
     "metadata": {},
     "output_type": "display_data"
    }
   ],
   "source": [
    "sns.countplot(data['day_type'],palette='pastel')"
   ]
  },
  {
   "cell_type": "code",
   "execution_count": 33,
   "id": "c1d57068",
   "metadata": {},
   "outputs": [
    {
     "data": {
      "text/plain": [
       "count    729322.000000\n",
       "mean          1.662055\n",
       "std           1.312446\n",
       "min           0.000000\n",
       "25%           1.000000\n",
       "50%           1.000000\n",
       "75%           2.000000\n",
       "max           9.000000\n",
       "Name: passenger_count, dtype: float64"
      ]
     },
     "execution_count": 33,
     "metadata": {},
     "output_type": "execute_result"
    }
   ],
   "source": [
    "\n",
    "data['passenger_count'].describe()"
   ]
  },
  {
   "cell_type": "code",
   "execution_count": 34,
   "id": "fa02599a",
   "metadata": {},
   "outputs": [
    {
     "data": {
      "text/plain": [
       "<AxesSubplot:xlabel='passenger_count', ylabel='count'>"
      ]
     },
     "execution_count": 34,
     "metadata": {},
     "output_type": "execute_result"
    },
    {
     "data": {
      "image/png": "[encoded data removed]",
      "text/plain": [
       "<Figure size 432x288 with 1 Axes>"
      ]
     },
     "metadata": {},
     "output_type": "display_data"
    }
   ],
   "source": [
    "sns.countplot(data['passenger_count'])\n"
   ]
  },
  {
   "cell_type": "code",
   "execution_count": 35,
   "id": "f1aa1669",
   "metadata": {},
   "outputs": [
    {
     "data": {
      "text/plain": [
       "<AxesSubplot:ylabel='passenger_count'>"
      ]
     },
     "execution_count": 35,
     "metadata": {},
     "output_type": "execute_result"
    },
    {
     "data": {
      "image/png": "[encoded data removed]",
      "text/plain": [
       "<Figure size 432x288 with 1 Axes>"
      ]
     },
     "metadata": {},
     "output_type": "display_data"
    }
   ],
   "source": [
    "sns.boxplot(y=data['passenger_count'])\n"
   ]
  },
  {
   "cell_type": "code",
   "execution_count": 36,
   "id": "9920a877",
   "metadata": {
    "scrolled": true
   },
   "outputs": [
    {
     "data": {
      "text/plain": [
       "<AxesSubplot:xlabel='trip_duration', ylabel='Density'>"
      ]
     },
     "execution_count": 36,
     "metadata": {},
     "output_type": "execute_result"
    },
    {
     "data": {
      "image/png": "[encoded data removed]",
      "text/plain": [
       "<Figure size 432x288 with 1 Axes>"
      ]
     },
     "metadata": {},
     "output_type": "display_data"
    }
   ],
   "source": [
    "sns.kdeplot(data['trip_duration'],shade=True)"
   ]
  },
  {
   "cell_type": "code",
   "execution_count": 37,
   "id": "e22d527b",
   "metadata": {},
   "outputs": [
    {
     "data": {
      "text/plain": [
       "<AxesSubplot:xlabel='trip_duration'>"
      ]
     },
     "execution_count": 37,
     "metadata": {},
     "output_type": "execute_result"
    },
    {
     "data": {
      "image/png": "[encoded data removed]",
      "text/plain": [
       "<Figure size 432x288 with 1 Axes>"
      ]
     },
     "metadata": {},
     "output_type": "display_data"
    }
   ],
   "source": [
    "sns.boxplot(data['trip_duration'])"
   ]
  },
  {
   "cell_type": "code",
   "execution_count": 38,
   "id": "ecad7b2c",
   "metadata": {},
   "outputs": [
    {
     "data": {
      "text/plain": [
       "186.6784368781186"
      ]
     },
     "execution_count": 38,
     "metadata": {},
     "output_type": "execute_result"
    }
   ],
   "source": [
    "data['trip_duration'].skew()"
   ]
  },
  {
   "cell_type": "code",
   "execution_count": 39,
   "id": "604439b4",
   "metadata": {},
   "outputs": [
    {
     "data": {
      "text/plain": [
       "87142.4634003971"
      ]
     },
     "execution_count": 39,
     "metadata": {},
     "output_type": "execute_result"
    }
   ],
   "source": [
    "data['trip_duration'].kurtosis()"
   ]
  },
  {
   "cell_type": "code",
   "execution_count": 40,
   "id": "7ceecc1b",
   "metadata": {},
   "outputs": [
    {
     "data": {
      "text/plain": [
       "count    729322.000000\n",
       "mean          3.441139\n",
       "std           4.353132\n",
       "min           0.000000\n",
       "25%           1.232695\n",
       "50%           2.095672\n",
       "75%           3.876481\n",
       "max        1240.908677\n",
       "Name: distance, dtype: float64"
      ]
     },
     "execution_count": 40,
     "metadata": {},
     "output_type": "execute_result"
    }
   ],
   "source": [
    "data['distance'].describe()"
   ]
  },
  {
   "cell_type": "code",
   "execution_count": 41,
   "id": "5446c7c5",
   "metadata": {
    "scrolled": true
   },
   "outputs": [
    {
     "data": {
      "text/plain": [
       "<AxesSubplot:xlabel='distance'>"
      ]
     },
     "execution_count": 41,
     "metadata": {},
     "output_type": "execute_result"
    },
    {
     "data": {
      "image/png": "[encoded data removed]",
      "text/plain": [
       "<Figure size 432x288 with 1 Axes>"
      ]
     },
     "metadata": {},
     "output_type": "display_data"
    }
   ],
   "source": [
    "sns.boxplot(data['distance'],orient=\"v\")"
   ]
  },
  {
   "cell_type": "code",
   "execution_count": 42,
   "id": "b8f65c45",
   "metadata": {},
   "outputs": [
    {
     "data": {
      "text/plain": [
       "<AxesSubplot:xlabel='distance', ylabel='Density'>"
      ]
     },
     "execution_count": 42,
     "metadata": {},
     "output_type": "execute_result"
    },
    {
     "data": {
      "image/png": "[encoded data removed]",
      "text/plain": [
       "<Figure size 432x288 with 1 Axes>"
      ]
     },
     "metadata": {},
     "output_type": "display_data"
    }
   ],
   "source": [
    "sns.kdeplot(data['distance'],shade=True)"
   ]
  },
  {
   "cell_type": "code",
   "execution_count": 43,
   "id": "a52fb173",
   "metadata": {},
   "outputs": [
    {
     "data": {
      "text/plain": [
       "40.98206468426759"
      ]
     },
     "execution_count": 43,
     "metadata": {},
     "output_type": "execute_result"
    }
   ],
   "source": [
    "data['distance'].skew()"
   ]
  },
  {
   "cell_type": "code",
   "execution_count": 44,
   "id": "9643b0f3",
   "metadata": {},
   "outputs": [
    {
     "data": {
      "text/plain": [
       "9795.085563470526"
      ]
     },
     "execution_count": 44,
     "metadata": {},
     "output_type": "execute_result"
    }
   ],
   "source": [
    "data['distance'].kurtosis()"
   ]
  },
  {
   "cell_type": "code",
   "execution_count": 45,
   "id": "8e68842d",
   "metadata": {
    "scrolled": true
   },
   "outputs": [
    {
     "data": {
      "text/plain": [
       "id                            object\n",
       "vendor_id                   category\n",
       "pickup_datetime       datetime64[ns]\n",
       "dropoff_datetime      datetime64[ns]\n",
       "passenger_count                int64\n",
       "pickup_longitude             float64\n",
       "pickup_latitude              float64\n",
       "dropoff_longitude            float64\n",
       "dropoff_latitude             float64\n",
       "store_and_fwd_flag          category\n",
       "trip_duration                  int64\n",
       "pickup_day                     int64\n",
       "pickup_day_name               object\n",
       "pickup_month_name             object\n",
       "pickup_hour                    int64\n",
       "dropoff_day                    int64\n",
       "dropoff_day_name              object\n",
       "dropoff_month_name            object\n",
       "dropoff_hour                   int64\n",
       "distance                     float64\n",
       "day_type                      object\n",
       "time_slot                     object\n",
       "dtype: object"
      ]
     },
     "execution_count": 45,
     "metadata": {},
     "output_type": "execute_result"
    }
   ],
   "source": [
    "data.dtypes"
   ]
  },
  {
   "cell_type": "code",
   "execution_count": 46,
   "id": "0e5fa24d",
   "metadata": {},
   "outputs": [
    {
     "data": {
      "text/plain": [
       "<seaborn.axisgrid.FacetGrid at 0x26101203d30>"
      ]
     },
     "execution_count": 46,
     "metadata": {},
     "output_type": "execute_result"
    },
    {
     "data": {
      "image/png": "[encoded data removed]",
      "text/plain": [
       "<Figure size 360x360 with 1 Axes>"
      ]
     },
     "metadata": {},
     "output_type": "display_data"
    }
   ],
   "source": [
    "sns.relplot(x=data['distance'],y=data['trip_duration'],kind='scatter')"
   ]
  },
  {
   "cell_type": "code",
   "execution_count": 47,
   "id": "323dcb59",
   "metadata": {},
   "outputs": [
    {
     "data": {
      "text/plain": [
       "<seaborn.axisgrid.FacetGrid at 0x261014f6790>"
      ]
     },
     "execution_count": 47,
     "metadata": {},
     "output_type": "execute_result"
    },
    {
     "data": {
      "image/png": "[encoded data removed]",
      "text/plain": [
       "<Figure size 360x360 with 1 Axes>"
      ]
     },
     "metadata": {},
     "output_type": "display_data"
    }
   ],
   "source": [
    "sns.relplot(x=data['distance'],y=data['trip_duration'],kind='line')"
   ]
  },
  {
   "cell_type": "code",
   "execution_count": 59,
   "id": "475ebac8",
   "metadata": {
    "scrolled": false
   },
   "outputs": [
    {
     "data": {
      "text/plain": [
       "<seaborn.axisgrid.FacetGrid at 0x2610935b910>"
      ]
     },
     "execution_count": 59,
     "metadata": {},
     "output_type": "execute_result"
    },
    {
     "data": {
      "image/png": "[encoded data removed]",
      "text/plain": [
       "<Figure size 360x360 with 1 Axes>"
      ]
     },
     "metadata": {},
     "output_type": "display_data"
    }
   ],
   "source": [
    "sns.catplot(x='store_and_fwd_flag',y='trip_duration',data=data,kind='strip')"
   ]
  },
  {
   "cell_type": "code",
   "execution_count": 58,
   "id": "e8dd6825",
   "metadata": {},
   "outputs": [
    {
     "data": {
      "text/plain": [
       "<AxesSubplot:xlabel='pickup_hour', ylabel='trip_duration'>"
      ]
     },
     "execution_count": 58,
     "metadata": {},
     "output_type": "execute_result"
    },
    {
     "data": {
      "image/png": "[encoded data removed]",
      "text/plain": [
       "<Figure size 720x360 with 1 Axes>"
      ]
     },
     "metadata": {},
     "output_type": "display_data"
    }
   ],
   "source": [
    "plt.figure(figsize=(10,5))\n",
    "sns.pointplot(x='pickup_hour',y='trip_duration',data=data)"
   ]
  },
  {
   "cell_type": "code",
   "execution_count": 50,
   "id": "20ffe272",
   "metadata": {},
   "outputs": [
    {
     "data": {
      "text/plain": [
       "<AxesSubplot:xlabel='trip_duration', ylabel='vendor_id'>"
      ]
     },
     "execution_count": 50,
     "metadata": {},
     "output_type": "execute_result"
    },
    {
     "data": {
      "image/png": "[encoded data removed]",
      "text/plain": [
       "<Figure size 432x288 with 1 Axes>"
      ]
     },
     "metadata": {},
     "output_type": "display_data"
    }
   ],
   "source": [
    "sns.barplot(data=data,y='vendor_id',x='trip_duration',palette='dark',estimator=np.mean)"
   ]
  },
  {
   "cell_type": "code",
   "execution_count": 51,
   "id": "4836f116",
   "metadata": {},
   "outputs": [
    {
     "data": {
      "text/plain": [
       "<AxesSubplot:xlabel='passenger_count', ylabel='vendor_id'>"
      ]
     },
     "execution_count": 51,
     "metadata": {},
     "output_type": "execute_result"
    },
    {
     "data": {
      "image/png": "[encoded data removed]",
      "text/plain": [
       "<Figure size 432x288 with 1 Axes>"
      ]
     },
     "metadata": {},
     "output_type": "display_data"
    }
   ],
   "source": [
    "sns.barplot(x=data[\"passenger_count\"],y=data['vendor_id'],estimator=np.mean)"
   ]
  },
  {
   "cell_type": "code",
   "execution_count": 52,
   "id": "937e25d7",
   "metadata": {},
   "outputs": [
    {
     "data": {
      "text/plain": [
       "<seaborn.axisgrid.FacetGrid at 0x2610aaea8b0>"
      ]
     },
     "execution_count": 52,
     "metadata": {},
     "output_type": "execute_result"
    },
    {
     "data": {
      "image/png": "[encoded data removed]",
      "text/plain": [
       "<Figure size 360x360 with 1 Axes>"
      ]
     },
     "metadata": {},
     "output_type": "display_data"
    }
   ],
   "source": [
    "sns.relplot(x=data['passenger_count'],y=data['trip_duration'],kind='line')"
   ]
  },
  {
   "cell_type": "code",
   "execution_count": 53,
   "id": "48264d51",
   "metadata": {
    "scrolled": true
   },
   "outputs": [
    {
     "data": {
      "text/plain": [
       "<AxesSubplot:xlabel='day_type', ylabel='trip_duration'>"
      ]
     },
     "execution_count": 53,
     "metadata": {},
     "output_type": "execute_result"
    },
    {
     "data": {
      "image/png": "[encoded data removed]",
      "text/plain": [
       "<Figure size 432x288 with 1 Axes>"
      ]
     },
     "metadata": {},
     "output_type": "display_data"
    }
   ],
   "source": [
    "sns.barplot(data['day_type'],data['trip_duration'])"
   ]
  },
  {
   "cell_type": "code",
   "execution_count": 54,
   "id": "a7193eab",
   "metadata": {},
   "outputs": [
    {
     "data": {
      "text/plain": [
       "<AxesSubplot:xlabel='day_type', ylabel='distance'>"
      ]
     },
     "execution_count": 54,
     "metadata": {},
     "output_type": "execute_result"
    },
    {
     "data": {
      "image/png": "[encoded data removed]",
      "text/plain": [
       "<Figure size 432x288 with 1 Axes>"
      ]
     },
     "metadata": {},
     "output_type": "display_data"
    }
   ],
   "source": [
    "sns.barplot(data['day_type'],data['distance'],hue=data['passenger_count'],estimator=np.mean)"
   ]
  },
  {
   "cell_type": "code",
   "execution_count": 55,
   "id": "d5848fe8",
   "metadata": {},
   "outputs": [
    {
     "data": {
      "text/html": [
       "<div>\n",
       "<style scoped>\n",
       "    .dataframe tbody tr th:only-of-type {\n",
       "        vertical-align: middle;\n",
       "    }\n",
       "\n",
       "    .dataframe tbody tr th {\n",
       "        vertical-align: top;\n",
       "    }\n",
       "\n",
       "    .dataframe thead th {\n",
       "        text-align: right;\n",
       "    }\n",
       "</style>\n",
       "<table border=\"1\" class=\"dataframe\">\n",
       "  <thead>\n",
       "    <tr style=\"text-align: right;\">\n",
       "      <th></th>\n",
       "      <th>passenger_count</th>\n",
       "      <th>pickup_longitude</th>\n",
       "      <th>pickup_latitude</th>\n",
       "      <th>dropoff_longitude</th>\n",
       "      <th>dropoff_latitude</th>\n",
       "      <th>trip_duration</th>\n",
       "      <th>pickup_day</th>\n",
       "      <th>pickup_hour</th>\n",
       "      <th>dropoff_day</th>\n",
       "      <th>dropoff_hour</th>\n",
       "      <th>distance</th>\n",
       "    </tr>\n",
       "  </thead>\n",
       "  <tbody>\n",
       "    <tr>\n",
       "      <th>passenger_count</th>\n",
       "      <td>1.000000</td>\n",
       "      <td>0.001163</td>\n",
       "      <td>-0.004696</td>\n",
       "      <td>-0.000027</td>\n",
       "      <td>-0.003944</td>\n",
       "      <td>0.013022</td>\n",
       "      <td>0.001737</td>\n",
       "      <td>0.009851</td>\n",
       "      <td>0.001915</td>\n",
       "      <td>0.009214</td>\n",
       "      <td>0.009175</td>\n",
       "    </tr>\n",
       "    <tr>\n",
       "      <th>pickup_longitude</th>\n",
       "      <td>0.001163</td>\n",
       "      <td>1.000000</td>\n",
       "      <td>0.047635</td>\n",
       "      <td>0.780647</td>\n",
       "      <td>0.118473</td>\n",
       "      <td>0.035447</td>\n",
       "      <td>-0.001378</td>\n",
       "      <td>0.010754</td>\n",
       "      <td>-0.001531</td>\n",
       "      <td>0.011170</td>\n",
       "      <td>0.251482</td>\n",
       "    </tr>\n",
       "    <tr>\n",
       "      <th>pickup_latitude</th>\n",
       "      <td>-0.004696</td>\n",
       "      <td>0.047635</td>\n",
       "      <td>1.000000</td>\n",
       "      <td>0.119970</td>\n",
       "      <td>0.479352</td>\n",
       "      <td>-0.038163</td>\n",
       "      <td>-0.006367</td>\n",
       "      <td>0.011433</td>\n",
       "      <td>-0.006369</td>\n",
       "      <td>0.018061</td>\n",
       "      <td>-0.128455</td>\n",
       "    </tr>\n",
       "    <tr>\n",
       "      <th>dropoff_longitude</th>\n",
       "      <td>-0.000027</td>\n",
       "      <td>0.780647</td>\n",
       "      <td>0.119970</td>\n",
       "      <td>1.000000</td>\n",
       "      <td>0.149598</td>\n",
       "      <td>0.020664</td>\n",
       "      <td>-0.000294</td>\n",
       "      <td>-0.022014</td>\n",
       "      <td>-0.000378</td>\n",
       "      <td>-0.023193</td>\n",
       "      <td>0.132353</td>\n",
       "    </tr>\n",
       "    <tr>\n",
       "      <th>dropoff_latitude</th>\n",
       "      <td>-0.003944</td>\n",
       "      <td>0.118473</td>\n",
       "      <td>0.479352</td>\n",
       "      <td>0.149598</td>\n",
       "      <td>1.000000</td>\n",
       "      <td>-0.028283</td>\n",
       "      <td>-0.006082</td>\n",
       "      <td>0.014257</td>\n",
       "      <td>-0.006109</td>\n",
       "      <td>0.018173</td>\n",
       "      <td>-0.153760</td>\n",
       "    </tr>\n",
       "    <tr>\n",
       "      <th>trip_duration</th>\n",
       "      <td>0.013022</td>\n",
       "      <td>0.035447</td>\n",
       "      <td>-0.038163</td>\n",
       "      <td>0.020664</td>\n",
       "      <td>-0.028283</td>\n",
       "      <td>1.000000</td>\n",
       "      <td>0.000999</td>\n",
       "      <td>0.002979</td>\n",
       "      <td>0.001701</td>\n",
       "      <td>0.003027</td>\n",
       "      <td>0.125772</td>\n",
       "    </tr>\n",
       "    <tr>\n",
       "      <th>pickup_day</th>\n",
       "      <td>0.001737</td>\n",
       "      <td>-0.001378</td>\n",
       "      <td>-0.006367</td>\n",
       "      <td>-0.000294</td>\n",
       "      <td>-0.006082</td>\n",
       "      <td>0.000999</td>\n",
       "      <td>1.000000</td>\n",
       "      <td>-0.001699</td>\n",
       "      <td>0.997913</td>\n",
       "      <td>-0.001825</td>\n",
       "      <td>0.005136</td>\n",
       "    </tr>\n",
       "    <tr>\n",
       "      <th>pickup_hour</th>\n",
       "      <td>0.009851</td>\n",
       "      <td>0.010754</td>\n",
       "      <td>0.011433</td>\n",
       "      <td>-0.022014</td>\n",
       "      <td>0.014257</td>\n",
       "      <td>0.002979</td>\n",
       "      <td>-0.001699</td>\n",
       "      <td>1.000000</td>\n",
       "      <td>-0.001560</td>\n",
       "      <td>0.934591</td>\n",
       "      <td>-0.016269</td>\n",
       "    </tr>\n",
       "    <tr>\n",
       "      <th>dropoff_day</th>\n",
       "      <td>0.001915</td>\n",
       "      <td>-0.001531</td>\n",
       "      <td>-0.006369</td>\n",
       "      <td>-0.000378</td>\n",
       "      <td>-0.006109</td>\n",
       "      <td>0.001701</td>\n",
       "      <td>0.997913</td>\n",
       "      <td>-0.001560</td>\n",
       "      <td>1.000000</td>\n",
       "      <td>-0.002035</td>\n",
       "      <td>0.004865</td>\n",
       "    </tr>\n",
       "    <tr>\n",
       "      <th>dropoff_hour</th>\n",
       "      <td>0.009214</td>\n",
       "      <td>0.011170</td>\n",
       "      <td>0.018061</td>\n",
       "      <td>-0.023193</td>\n",
       "      <td>0.018173</td>\n",
       "      <td>0.003027</td>\n",
       "      <td>-0.001825</td>\n",
       "      <td>0.934591</td>\n",
       "      <td>-0.002035</td>\n",
       "      <td>1.000000</td>\n",
       "      <td>-0.020934</td>\n",
       "    </tr>\n",
       "    <tr>\n",
       "      <th>distance</th>\n",
       "      <td>0.009175</td>\n",
       "      <td>0.251482</td>\n",
       "      <td>-0.128455</td>\n",
       "      <td>0.132353</td>\n",
       "      <td>-0.153760</td>\n",
       "      <td>0.125772</td>\n",
       "      <td>0.005136</td>\n",
       "      <td>-0.016269</td>\n",
       "      <td>0.004865</td>\n",
       "      <td>-0.020934</td>\n",
       "      <td>1.000000</td>\n",
       "    </tr>\n",
       "  </tbody>\n",
       "</table>\n",
       "</div>"
      ],
      "text/plain": [
       "                   passenger_count  pickup_longitude  pickup_latitude  \\\n",
       "passenger_count           1.000000          0.001163        -0.004696   \n",
       "pickup_longitude          0.001163          1.000000         0.047635   \n",
       "pickup_latitude          -0.004696          0.047635         1.000000   \n",
       "dropoff_longitude        -0.000027          0.780647         0.119970   \n",
       "dropoff_latitude         -0.003944          0.118473         0.479352   \n",
       "trip_duration             0.013022          0.035447        -0.038163   \n",
       "pickup_day                0.001737         -0.001378        -0.006367   \n",
       "pickup_hour               0.009851          0.010754         0.011433   \n",
       "dropoff_day               0.001915         -0.001531        -0.006369   \n",
       "dropoff_hour              0.009214          0.011170         0.018061   \n",
       "distance                  0.009175          0.251482        -0.128455   \n",
       "\n",
       "                   dropoff_longitude  dropoff_latitude  trip_duration  \\\n",
       "passenger_count            -0.000027         -0.003944       0.013022   \n",
       "pickup_longitude            0.780647          0.118473       0.035447   \n",
       "pickup_latitude             0.119970          0.479352      -0.038163   \n",
       "dropoff_longitude           1.000000          0.149598       0.020664   \n",
       "dropoff_latitude            0.149598          1.000000      -0.028283   \n",
       "trip_duration               0.020664         -0.028283       1.000000   \n",
       "pickup_day                 -0.000294         -0.006082       0.000999   \n",
       "pickup_hour                -0.022014          0.014257       0.002979   \n",
       "dropoff_day                -0.000378         -0.006109       0.001701   \n",
       "dropoff_hour               -0.023193          0.018173       0.003027   \n",
       "distance                    0.132353         -0.153760       0.125772   \n",
       "\n",
       "                   pickup_day  pickup_hour  dropoff_day  dropoff_hour  \\\n",
       "passenger_count      0.001737     0.009851     0.001915      0.009214   \n",
       "pickup_longitude    -0.001378     0.010754    -0.001531      0.011170   \n",
       "pickup_latitude     -0.006367     0.011433    -0.006369      0.018061   \n",
       "dropoff_longitude   -0.000294    -0.022014    -0.000378     -0.023193   \n",
       "dropoff_latitude    -0.006082     0.014257    -0.006109      0.018173   \n",
       "trip_duration        0.000999     0.002979     0.001701      0.003027   \n",
       "pickup_day           1.000000    -0.001699     0.997913     -0.001825   \n",
       "pickup_hour         -0.001699     1.000000    -0.001560      0.934591   \n",
       "dropoff_day          0.997913    -0.001560     1.000000     -0.002035   \n",
       "dropoff_hour        -0.001825     0.934591    -0.002035      1.000000   \n",
       "distance             0.005136    -0.016269     0.004865     -0.020934   \n",
       "\n",
       "                   distance  \n",
       "passenger_count    0.009175  \n",
       "pickup_longitude   0.251482  \n",
       "pickup_latitude   -0.128455  \n",
       "dropoff_longitude  0.132353  \n",
       "dropoff_latitude  -0.153760  \n",
       "trip_duration      0.125772  \n",
       "pickup_day         0.005136  \n",
       "pickup_hour       -0.016269  \n",
       "dropoff_day        0.004865  \n",
       "dropoff_hour      -0.020934  \n",
       "distance           1.000000  "
      ]
     },
     "execution_count": 55,
     "metadata": {},
     "output_type": "execute_result"
    }
   ],
   "source": [
    "data.corr()"
   ]
  },
  {
   "cell_type": "code",
   "execution_count": 56,
   "id": "db87208e",
   "metadata": {},
   "outputs": [
    {
     "data": {
      "text/plain": [
       "<AxesSubplot:>"
      ]
     },
     "execution_count": 56,
     "metadata": {},
     "output_type": "execute_result"
    },
    {
     "data": {
      "image/png": "[encoded data removed]",
      "text/plain": [
       "<Figure size 432x288 with 2 Axes>"
      ]
     },
     "metadata": {},
     "output_type": "display_data"
    }
   ],
   "source": [
    "sns.heatmap(data.corr())"
   ]
  }
 ],
 "metadata": {
  "kernelspec": {
   "display_name": "Python 3 (ipykernel)",
   "language": "python",
   "name": "python3"
  },
  "language_info": {
   "codemirror_mode": {
    "name": "ipython",
    "version": 3
   },
   "file_extension": ".py",
   "mimetype": "text/x-python",
   "name": "python",
   "nbconvert_exporter": "python",
   "pygments_lexer": "ipython3",
   "version": "3.9.7"
  }
 },
 "nbformat": 4,
 "nbformat_minor": 5
}
